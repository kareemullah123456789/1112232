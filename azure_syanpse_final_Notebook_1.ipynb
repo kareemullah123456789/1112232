{
  "cells": [
    {
      "cell_type": "markdown",
      "metadata": {
        "id": "view-in-github",
        "colab_type": "text"
      },
      "source": [
        "<a href=\"https://colab.research.google.com/github/kareemullah123456789/1112232/blob/master/azure_syanpse_final_Notebook_1.ipynb\" target=\"_parent\"><img src=\"https://colab.research.google.com/assets/colab-badge.svg\" alt=\"Open In Colab\"/></a>"
      ]
    },
    {
      "cell_type": "code",
      "source": [
        "df = spark.read.format(\"csv\").option(\"header\", \"true\").load(\"abfss://demo@demo0003.dfs.core.windows.net/customer_orders.csv\")\n",
        "df.show(5)\n"
      ],
      "outputs": [
        {
          "output_type": "display_data",
          "data": {
            "application/vnd.livy.statement-meta+json": {
              "spark_pool": "new",
              "statement_id": 8,
              "statement_ids": [
                8
              ],
              "state": "finished",
              "livy_statement_state": "available",
              "spark_jobs": null,
              "session_id": "1",
              "normalized_state": "finished",
              "queued_time": "2025-02-15T16:17:45.5758702Z",
              "session_start_time": null,
              "execution_start_time": "2025-02-15T16:17:45.729774Z",
              "execution_finish_time": "2025-02-15T16:17:46.8774025Z",
              "parent_msg_id": "a19189b7-9761-43ce-b6f5-cc51d241e1a0"
            },
            "text/plain": "StatementMeta(new, 1, 8, Finished, Available, Finished)"
          },
          "metadata": {}
        },
        {
          "output_type": "stream",
          "name": "stdout",
          "text": [
            "+-------+------------+----------+--------+-----+----------+\n|OrderID|CustomerName|   Product|Quantity|Price| OrderDate|\n+-------+------------+----------+--------+-----+----------+\n|      1|    John Doe|    Laptop|       1| 1200|2024-01-01|\n|      2|  Jane Smith|Smartphone|       2|  800|2024-01-05|\n|      3| Sam Johnson|    Tablet|       1|  300|2024-01-10|\n|      4|   Linda Lee|Smartwatch|       3|  200|2024-01-15|\n|      5|   David Kim|Headphones|       5|  100|2024-01-20|\n+-------+------------+----------+--------+-----+----------+\n\n"
          ]
        }
      ],
      "execution_count": null,
      "metadata": {
        "id": "eLRREyUhaMe-",
        "outputId": "1fa7aa06-16ab-4468-b603-0a888c2b47bb"
      }
    },
    {
      "cell_type": "code",
      "source": [],
      "metadata": {
        "id": "FI2WNyQgc0S0"
      },
      "execution_count": null,
      "outputs": []
    },
    {
      "cell_type": "code",
      "source": [
        "df.printSchema()"
      ],
      "outputs": [
        {
          "output_type": "display_data",
          "data": {
            "application/vnd.livy.statement-meta+json": {
              "spark_pool": "new",
              "statement_id": 9,
              "statement_ids": [
                9
              ],
              "state": "finished",
              "livy_statement_state": "available",
              "spark_jobs": null,
              "session_id": "1",
              "normalized_state": "finished",
              "queued_time": "2025-02-15T16:18:35.0847606Z",
              "session_start_time": null,
              "execution_start_time": "2025-02-15T16:18:35.186573Z",
              "execution_finish_time": "2025-02-15T16:18:35.3656893Z",
              "parent_msg_id": "c03c908d-1098-402d-960e-0694220c0373"
            },
            "text/plain": "StatementMeta(new, 1, 9, Finished, Available, Finished)"
          },
          "metadata": {}
        },
        {
          "output_type": "stream",
          "name": "stdout",
          "text": [
            "root\n |-- OrderID: string (nullable = true)\n |-- CustomerName: string (nullable = true)\n |-- Product: string (nullable = true)\n |-- Quantity: string (nullable = true)\n |-- Price: string (nullable = true)\n |-- OrderDate: string (nullable = true)\n\n"
          ]
        }
      ],
      "execution_count": null,
      "metadata": {
        "jupyter": {
          "source_hidden": false,
          "outputs_hidden": false
        },
        "nteract": {
          "transient": {
            "deleting": false
          }
        },
        "id": "_6AG9GTVaMfC",
        "outputId": "f63d1964-4ad5-4f83-8ec8-8cc7a286adcc"
      }
    },
    {
      "cell_type": "code",
      "source": [
        "spark.sql(\"CREATE DATABASE IF NOT EXISTS nyctaxi\")\n",
        "\n",
        "df.write.mode(\"overwrite\").saveAsTable(\"nyctaxi.trip\")\n"
      ],
      "outputs": [],
      "execution_count": null,
      "metadata": {
        "jupyter": {
          "source_hidden": false,
          "outputs_hidden": false
        },
        "nteract": {
          "transient": {
            "deleting": false
          }
        },
        "id": "9k4sMGt-aMfD"
      }
    },
    {
      "cell_type": "code",
      "source": [
        "df1 = spark.sql(\"SELECT * FROM nyctaxi.trip\")\n",
        "display(df1)\n"
      ],
      "metadata": {
        "id": "yOgWQfwQc2wL"
      },
      "execution_count": null,
      "outputs": []
    }
  ],
  "metadata": {
    "language_info": {
      "name": "python"
    },
    "kernelspec": {
      "name": "synapse_pyspark",
      "language": "Python",
      "display_name": "Synapse PySpark"
    },
    "kernel_info": {
      "name": "synapse_pyspark"
    },
    "save_output": true,
    "synapse_widget": {
      "version": "0.1",
      "state": {}
    },
    "colab": {
      "provenance": [],
      "include_colab_link": true
    }
  },
  "nbformat": 4,
  "nbformat_minor": 0
}