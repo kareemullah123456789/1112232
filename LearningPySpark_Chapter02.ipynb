{
  "cells": [
    {
      "cell_type": "markdown",
      "metadata": {
        "id": "view-in-github",
        "colab_type": "text"
      },
      "source": [
        "<a href=\"https://colab.research.google.com/github/kareemullah123456789/1112232/blob/master/LearningPySpark_Chapter02.ipynb\" target=\"_parent\"><img src=\"https://colab.research.google.com/assets/colab-badge.svg\" alt=\"Open In Colab\"/></a>"
      ]
    },
    {
      "cell_type": "markdown",
      "metadata": {
        "id": "eCLSVM36zyyy"
      },
      "source": [
        "# Chapter 3 - Learning PySpark\n",
        "## Resilient Distributed Datasets"
      ]
    },
    {
      "cell_type": "code",
      "source": [
        "!pip install pyspark --quiet"
      ],
      "metadata": {
        "id": "EfRnTD4hz1Yb",
        "colab": {
          "base_uri": "https://localhost:8080/"
        },
        "outputId": "00d99ba4-a9d5-4c9c-fc71-944d8e04ef5d"
      },
      "execution_count": null,
      "outputs": [
        {
          "output_type": "stream",
          "name": "stdout",
          "text": [
            "\u001b[2K     \u001b[90m━━━━━━━━━━━━━━━━━━━━━━━━━━━━━━━━━━━━━━━━\u001b[0m \u001b[32m317.3/317.3 MB\u001b[0m \u001b[31m4.7 MB/s\u001b[0m eta \u001b[36m0:00:00\u001b[0m\n",
            "\u001b[?25h  Preparing metadata (setup.py) ... \u001b[?25l\u001b[?25hdone\n",
            "  Building wheel for pyspark (setup.py) ... \u001b[?25l\u001b[?25hdone\n"
          ]
        }
      ]
    },
    {
      "cell_type": "code",
      "source": [
        "!pip install pyngrok"
      ],
      "metadata": {
        "colab": {
          "base_uri": "https://localhost:8080/"
        },
        "id": "7tYrN9Jmz2VM",
        "outputId": "450778a2-b528-468c-9e0e-4db6bf87cd4c"
      },
      "execution_count": null,
      "outputs": [
        {
          "output_type": "stream",
          "name": "stdout",
          "text": [
            "Collecting pyngrok\n",
            "  Downloading pyngrok-7.2.0-py3-none-any.whl.metadata (7.4 kB)\n",
            "Requirement already satisfied: PyYAML>=5.1 in /usr/local/lib/python3.10/dist-packages (from pyngrok) (6.0.2)\n",
            "Downloading pyngrok-7.2.0-py3-none-any.whl (22 kB)\n",
            "Installing collected packages: pyngrok\n",
            "Successfully installed pyngrok-7.2.0\n"
          ]
        }
      ]
    },
    {
      "cell_type": "code",
      "source": [
        "from pyngrok import ngrok\n",
        "\n",
        "# Replace \"your_auth_token\" with your actual ngrok token\n",
        "ngrok.set_auth_token(\"2mn3JmxhS2Tva5L5LPlVPg8vENL_6F56KMq9DJaoH2bRUEhBz\")"
      ],
      "metadata": {
        "id": "t62Y_rQj0GqN"
      },
      "execution_count": 7,
      "outputs": []
    },
    {
      "cell_type": "code",
      "source": [
        "# !killall ngrok\n",
        "\n",
        "#https://dashboard.ngrok.com/get-started/setup/windows  # to check multiple tunnels"
      ],
      "metadata": {
        "colab": {
          "base_uri": "https://localhost:8080/"
        },
        "id": "Dc0kBBEb0KV1",
        "outputId": "246a1c27-4823-4853-e00e-f0624fb555ee"
      },
      "execution_count": null,
      "outputs": [
        {
          "output_type": "stream",
          "name": "stdout",
          "text": [
            "ngrok: no process found\n"
          ]
        }
      ]
    },
    {
      "cell_type": "code",
      "source": [
        "from pyspark import SparkContext, SparkConf\n",
        "from pyngrok import ngrok\n",
        "\n",
        "# Set up Spark configuration\n",
        "conf = SparkConf().set('spark.ui.port', '4050').setAppName(\"films\").setMaster(\"local[*]\")\n",
        "sc = SparkContext.getOrCreate(conf=conf)\n",
        "\n",
        "# Expose the Spark UI port via ngrok\n",
        "spark_ui_url = ngrok.connect(4050)\n",
        "\n",
        "print(f\"Spark UI running on: {spark_ui_url}\")"
      ],
      "metadata": {
        "colab": {
          "base_uri": "https://localhost:8080/"
        },
        "id": "kkirATo10Kbe",
        "outputId": "41560339-b8d0-4d80-8de3-b62cf75727ed"
      },
      "execution_count": 8,
      "outputs": [
        {
          "output_type": "stream",
          "name": "stdout",
          "text": [
            "Spark UI running on: NgrokTunnel: \"https://3005-35-231-80-124.ngrok-free.app\" -> \"http://localhost:4050\"\n"
          ]
        }
      ]
    },
    {
      "cell_type": "code",
      "source": [],
      "metadata": {
        "id": "hSbrpIZe0G48"
      },
      "execution_count": null,
      "outputs": []
    },
    {
      "cell_type": "markdown",
      "metadata": {
        "id": "3z4D8Z1qzyy_"
      },
      "source": [
        "### Creating RDDs"
      ]
    },
    {
      "cell_type": "markdown",
      "metadata": {
        "id": "hIPzLQwQzyzC"
      },
      "source": [
        "There are two ways to create an RDD in PySpark. You can parallelize a list"
      ]
    },
    {
      "cell_type": "code",
      "execution_count": 9,
      "metadata": {
        "collapsed": true,
        "id": "kilANwbPzyzE"
      },
      "outputs": [],
      "source": [
        "data = sc.parallelize(\n",
        "    [('Amber', 22), ('Alfred', 23), ('Skye',4), ('Albert', 12),\n",
        "     ('Amber', 9)])"
      ]
    },
    {
      "cell_type": "code",
      "source": [
        "#https://www.tomdrabas.com/data/    # to download"
      ],
      "metadata": {
        "id": "Lgd6lQb41dL8"
      },
      "execution_count": null,
      "outputs": []
    },
    {
      "cell_type": "markdown",
      "metadata": {
        "id": "VM6QZnvRzyzN"
      },
      "source": [
        "or read from a repository (a file or a database)"
      ]
    },
    {
      "cell_type": "code",
      "execution_count": null,
      "metadata": {
        "collapsed": true,
        "id": "ZsgZUeCBzyzO"
      },
      "outputs": [],
      "source": [
        "data_from_file = sc.\\\n",
        "    textFile(\n",
        "        '/content/VS14MORT.txt',\n",
        "        4)"
      ]
    },
    {
      "cell_type": "markdown",
      "metadata": {
        "id": "-DL_476LzyzQ"
      },
      "source": [
        "Note, that to execute the code above you will have to change the path where the data is stored. The dataset can be downloaded from http://tomdrabas.com/data/VS14MORT.txt.gz"
      ]
    },
    {
      "cell_type": "markdown",
      "metadata": {
        "id": "YHPHyF8JzyzT"
      },
      "source": [
        "#### Schema"
      ]
    },
    {
      "cell_type": "markdown",
      "metadata": {
        "id": "PUFfbZJizyzV"
      },
      "source": [
        "RDDs are *schema-less* data structures."
      ]
    },
    {
      "cell_type": "code",
      "execution_count": 11,
      "metadata": {
        "colab": {
          "base_uri": "https://localhost:8080/"
        },
        "id": "MsM9ku8GzyzX",
        "outputId": "83cb6a79-e7c9-44c5-b9d7-d7e73c5808bd"
      },
      "outputs": [
        {
          "output_type": "execute_result",
          "data": {
            "text/plain": [
              "[('Ferrari', 'fast'), {'Porsche': 100000}, ['Spain', 'visited', 4504]]"
            ]
          },
          "metadata": {},
          "execution_count": 11
        }
      ],
      "source": [
        "data_heterogenous = sc.parallelize([('Ferrari', 'fast'), {'Porsche': 100000}, ['Spain','visited', 4504]]).collect()\n",
        "data_heterogenous"
      ]
    },
    {
      "cell_type": "markdown",
      "metadata": {
        "id": "R3eu1BElzyzg"
      },
      "source": [
        "You can access the data in the object as you would normally do in Python."
      ]
    },
    {
      "cell_type": "code",
      "execution_count": 12,
      "metadata": {
        "colab": {
          "base_uri": "https://localhost:8080/"
        },
        "id": "Ta0sd2l9zyzk",
        "outputId": "5881d0fe-f714-4658-b109-d5454abd2984"
      },
      "outputs": [
        {
          "output_type": "execute_result",
          "data": {
            "text/plain": [
              "100000"
            ]
          },
          "metadata": {},
          "execution_count": 12
        }
      ],
      "source": [
        "data_heterogenous[1]['Porsche']"
      ]
    },
    {
      "cell_type": "markdown",
      "metadata": {
        "id": "3C5Hmai6zyzu"
      },
      "source": [
        "#### Reading from files"
      ]
    },
    {
      "cell_type": "markdown",
      "metadata": {
        "id": "elSxemyVzyzv"
      },
      "source": [
        "When you read from a text file, each row from the file forms an element of an RDD."
      ]
    },
    {
      "cell_type": "code",
      "execution_count": null,
      "metadata": {
        "colab": {
          "base_uri": "https://localhost:8080/"
        },
        "id": "zeP-m28Yzyzw",
        "outputId": "4f9d73c0-fd77-4b7d-dcf7-3f9ee139b7b4"
      },
      "outputs": [
        {
          "output_type": "execute_result",
          "data": {
            "text/plain": [
              "['                   1                                          2101  M1087 432311  4M4                2014U7CN                                    I64 238 070   24 0111I64                                                                                                                                                                           01 I64                                                                                                  01  11                                 100 601']"
            ]
          },
          "metadata": {},
          "execution_count": 23
        }
      ],
      "source": [
        "data_from_file.take(1)"
      ]
    },
    {
      "cell_type": "markdown",
      "metadata": {
        "id": "bJbrjMh0zy0B"
      },
      "source": [
        "#### User defined functions"
      ]
    },
    {
      "cell_type": "markdown",
      "metadata": {
        "id": "e9-feGFWzy0j"
      },
      "source": [
        "You can create *longer* method to transform your data instead of using the `lambda` expression."
      ]
    },
    {
      "cell_type": "code",
      "execution_count": null,
      "metadata": {
        "id": "EEClWFWQzy0u"
      },
      "outputs": [],
      "source": [
        "def extractInformation(row):\n",
        "    import re\n",
        "    import numpy as np\n",
        "\n",
        "    selected_indices = [\n",
        "         2,4,5,6,7,9,10,11,12,13,14,15,16,17,18,\n",
        "         19,21,22,23,24,25,27,28,29,30,32,33,34,\n",
        "         36,37,38,39,40,41,42,43,44,45,46,47,48,\n",
        "         49,50,51,52,53,54,55,56,58,60,61,62,63,\n",
        "         64,65,66,67,68,69,70,71,72,73,74,75,76,\n",
        "         77,78,79,81,82,83,84,85,87,89\n",
        "    ]\n",
        "\n",
        "    '''\n",
        "        Input record schema\n",
        "        schema: n-m (o) -- xxx\n",
        "            n - position from\n",
        "            m - position to\n",
        "            o - number of characters\n",
        "            xxx - description\n",
        "        1. 1-19 (19) -- reserved positions\n",
        "        2. 20 (1) -- resident status\n",
        "        3. 21-60 (40) -- reserved positions\n",
        "        4. 61-62 (2) -- education code (1989 revision)\n",
        "        5. 63 (1) -- education code (2003 revision)\n",
        "        6. 64 (1) -- education reporting flag\n",
        "        7. 65-66 (2) -- month of death\n",
        "        8. 67-68 (2) -- reserved positions\n",
        "        9. 69 (1) -- sex\n",
        "        10. 70 (1) -- age: 1-years, 2-months, 4-days, 5-hours, 6-minutes, 9-not stated\n",
        "        11. 71-73 (3) -- number of units (years, months etc)\n",
        "        12. 74 (1) -- age substitution flag (if the age reported in positions 70-74 is calculated using dates of birth and death)\n",
        "        13. 75-76 (2) -- age recoded into 52 categories\n",
        "        14. 77-78 (2) -- age recoded into 27 categories\n",
        "        15. 79-80 (2) -- age recoded into 12 categories\n",
        "        16. 81-82 (2) -- infant age recoded into 22 categories\n",
        "        17. 83 (1) -- place of death\n",
        "        18. 84 (1) -- marital status\n",
        "        19. 85 (1) -- day of the week of death\n",
        "        20. 86-101 (16) -- reserved positions\n",
        "        21. 102-105 (4) -- current year\n",
        "        22. 106 (1) -- injury at work\n",
        "        23. 107 (1) -- manner of death\n",
        "        24. 108 (1) -- manner of disposition\n",
        "        25. 109 (1) -- autopsy\n",
        "        26. 110-143 (34) -- reserved positions\n",
        "        27. 144 (1) -- activity code\n",
        "        28. 145 (1) -- place of injury\n",
        "        29. 146-149 (4) -- ICD code\n",
        "        30. 150-152 (3) -- 358 cause recode\n",
        "        31. 153 (1) -- reserved position\n",
        "        32. 154-156 (3) -- 113 cause recode\n",
        "        33. 157-159 (3) -- 130 infant cause recode\n",
        "        34. 160-161 (2) -- 39 cause recode\n",
        "        35. 162 (1) -- reserved position\n",
        "        36. 163-164 (2) -- number of entity-axis conditions\n",
        "        37-56. 165-304 (140) -- list of up to 20 conditions\n",
        "        57. 305-340 (36) -- reserved positions\n",
        "        58. 341-342 (2) -- number of record axis conditions\n",
        "        59. 343 (1) -- reserved position\n",
        "        60-79. 344-443 (100) -- record axis conditions\n",
        "        80. 444 (1) -- reserve position\n",
        "        81. 445-446 (2) -- race\n",
        "        82. 447 (1) -- bridged race flag\n",
        "        83. 448 (1) -- race imputation flag\n",
        "        84. 449 (1) -- race recode (3 categories)\n",
        "        85. 450 (1) -- race recode (5 categories)\n",
        "        86. 461-483 (33) -- reserved positions\n",
        "        87. 484-486 (3) -- Hispanic origin\n",
        "        88. 487 (1) -- reserved\n",
        "        89. 488 (1) -- Hispanic origin/race recode\n",
        "     '''\n",
        "\n",
        "    record_split = re\\\n",
        "        .compile(\n",
        "            r'([\\s]{19})([0-9]{1})([\\s]{40})([0-9\\s]{2})([0-9\\s]{1})([0-9]{1})([0-9]{2})' +\n",
        "            r'([\\s]{2})([FM]{1})([0-9]{1})([0-9]{3})([0-9\\s]{1})([0-9]{2})([0-9]{2})' +\n",
        "            r'([0-9]{2})([0-9\\s]{2})([0-9]{1})([SMWDU]{1})([0-9]{1})([\\s]{16})([0-9]{4})' +\n",
        "            r'([YNU]{1})([0-9\\s]{1})([BCOU]{1})([YNU]{1})([\\s]{34})([0-9\\s]{1})([0-9\\s]{1})' +\n",
        "            r'([A-Z0-9\\s]{4})([0-9]{3})([\\s]{1})([0-9\\s]{3})([0-9\\s]{3})([0-9\\s]{2})([\\s]{1})' +\n",
        "            r'([0-9\\s]{2})([A-Z0-9\\s]{7})([A-Z0-9\\s]{7})([A-Z0-9\\s]{7})([A-Z0-9\\s]{7})' +\n",
        "            r'([A-Z0-9\\s]{7})([A-Z0-9\\s]{7})([A-Z0-9\\s]{7})([A-Z0-9\\s]{7})([A-Z0-9\\s]{7})' +\n",
        "            r'([A-Z0-9\\s]{7})([A-Z0-9\\s]{7})([A-Z0-9\\s]{7})([A-Z0-9\\s]{7})([A-Z0-9\\s]{7})' +\n",
        "            r'([A-Z0-9\\s]{7})([A-Z0-9\\s]{7})([A-Z0-9\\s]{7})([A-Z0-9\\s]{7})([A-Z0-9\\s]{7})' +\n",
        "            r'([A-Z0-9\\s]{7})([\\s]{36})([A-Z0-9\\s]{2})([\\s]{1})([A-Z0-9\\s]{5})([A-Z0-9\\s]{5})' +\n",
        "            r'([A-Z0-9\\s]{5})([A-Z0-9\\s]{5})([A-Z0-9\\s]{5})([A-Z0-9\\s]{5})([A-Z0-9\\s]{5})' +\n",
        "            r'([A-Z0-9\\s]{5})([A-Z0-9\\s]{5})([A-Z0-9\\s]{5})([A-Z0-9\\s]{5})([A-Z0-9\\s]{5})' +\n",
        "            r'([A-Z0-9\\s]{5})([A-Z0-9\\s]{5})([A-Z0-9\\s]{5})([A-Z0-9\\s]{5})([A-Z0-9\\s]{5})' +\n",
        "            r'([A-Z0-9\\s]{5})([A-Z0-9\\s]{5})([A-Z0-9\\s]{5})([\\s]{1})([0-9\\s]{2})([0-9\\s]{1})' +\n",
        "            r'([0-9\\s]{1})([0-9\\s]{1})([0-9\\s]{1})([\\s]{33})([0-9\\s]{3})([0-9\\s]{1})([0-9\\s]{1})')\n",
        "    try:\n",
        "        rs = np.array(record_split.split(row))[selected_indices]\n",
        "    except:\n",
        "        rs = np.array(['-99'] * len(selected_indices))\n",
        "    return rs\n",
        "#     return record_split.split(row)"
      ]
    },
    {
      "cell_type": "markdown",
      "metadata": {
        "id": "0aECzJKIzy1H"
      },
      "source": [
        "Now, instead of using `lambda` we will use the `extractInformation(...)` method to split and convert our dataset."
      ]
    },
    {
      "cell_type": "code",
      "execution_count": null,
      "metadata": {
        "colab": {
          "base_uri": "https://localhost:8080/"
        },
        "id": "1Ftzo_azzy1M",
        "outputId": "25c2871e-eabb-48a8-8fd9-2af19ebed0d7"
      },
      "outputs": [
        {
          "output_type": "execute_result",
          "data": {
            "text/plain": [
              "[array(['1', '  ', '2', '1', '01', 'M', '1', '087', ' ', '43', '23', '11',\n",
              "        '  ', '4', 'M', '4', '2014', 'U', '7', 'C', 'N', ' ', ' ', 'I64 ',\n",
              "        '238', '070', '   ', '24', '01', '11I64  ', '       ', '       ',\n",
              "        '       ', '       ', '       ', '       ', '       ', '       ',\n",
              "        '       ', '       ', '       ', '       ', '       ', '       ',\n",
              "        '       ', '       ', '       ', '       ', '       ', '01',\n",
              "        'I64  ', '     ', '     ', '     ', '     ', '     ', '     ',\n",
              "        '     ', '     ', '     ', '     ', '     ', '     ', '     ',\n",
              "        '     ', '     ', '     ', '     ', '     ', '     ', '01', ' ',\n",
              "        ' ', '1', '1', '100', '6'], dtype='<U40')]"
            ]
          },
          "metadata": {},
          "execution_count": 25
        }
      ],
      "source": [
        "data_from_file_conv = data_from_file.map(extractInformation)\n",
        "data_from_file_conv.map(lambda row: row).take(1)"
      ]
    },
    {
      "cell_type": "markdown",
      "metadata": {
        "id": "K6DvnqYFzy1W"
      },
      "source": [
        "### Transformations"
      ]
    },
    {
      "cell_type": "markdown",
      "metadata": {
        "id": "w0kT-0A7zy1X"
      },
      "source": [
        "#### .map(...)"
      ]
    },
    {
      "cell_type": "markdown",
      "metadata": {
        "id": "_A6zeEOTzy1Y"
      },
      "source": [
        "The method is applied to each element of the RDD: in the case for the `data_from_file_conv` dataset you can think of this as a transformation of each row."
      ]
    },
    {
      "cell_type": "code",
      "execution_count": null,
      "metadata": {
        "colab": {
          "base_uri": "https://localhost:8080/"
        },
        "id": "FWDq8EgPzy1Y",
        "outputId": "b320a43a-31c5-4b6f-c6aa-7559a321364b"
      },
      "outputs": [
        {
          "output_type": "execute_result",
          "data": {
            "text/plain": [
              "[2014, 2014, 2014, 2014, 2014, 2014, 2014, 2014, 2014, -99]"
            ]
          },
          "metadata": {},
          "execution_count": 26
        }
      ],
      "source": [
        "data_2014 = data_from_file_conv.map(lambda row: int(row[16]))\n",
        "data_2014.take(10)"
      ]
    },
    {
      "cell_type": "markdown",
      "metadata": {
        "id": "F0wORRuuzy1a"
      },
      "source": [
        "You can combine more columns."
      ]
    },
    {
      "cell_type": "code",
      "execution_count": null,
      "metadata": {
        "colab": {
          "base_uri": "https://localhost:8080/"
        },
        "id": "vUSJXJeFzy1d",
        "outputId": "27780e3a-d4b1-4c90-cc9a-b1ac72abad2b"
      },
      "outputs": [
        {
          "output_type": "execute_result",
          "data": {
            "text/plain": [
              "[('2014', 2014),\n",
              " ('2014', 2014),\n",
              " ('2014', 2014),\n",
              " ('2014', 2014),\n",
              " ('2014', 2014),\n",
              " ('2014', 2014),\n",
              " ('2014', 2014),\n",
              " ('2014', 2014),\n",
              " ('2014', 2014),\n",
              " ('-99', -99)]"
            ]
          },
          "metadata": {},
          "execution_count": 27
        }
      ],
      "source": [
        "data_2014_2 = data_from_file_conv.map(lambda row: (row[16], int(row[16])))\n",
        "data_2014_2.take(10)"
      ]
    },
    {
      "cell_type": "markdown",
      "metadata": {
        "id": "mAQatXAqzy1m"
      },
      "source": [
        "#### .filter(...)"
      ]
    },
    {
      "cell_type": "markdown",
      "metadata": {
        "id": "KkpBbX7Izy1n"
      },
      "source": [
        "The `.filter(...)` method allows you to select elements of your dataset that fit specified criteria."
      ]
    },
    {
      "cell_type": "code",
      "execution_count": null,
      "metadata": {
        "colab": {
          "base_uri": "https://localhost:8080/"
        },
        "id": "txptNDSDzy1o",
        "outputId": "5f4402f0-0105-4954-cbf0-68b8280c007f"
      },
      "outputs": [
        {
          "output_type": "execute_result",
          "data": {
            "text/plain": [
              "0"
            ]
          },
          "metadata": {},
          "execution_count": 28
        }
      ],
      "source": [
        "data_filtered = data_from_file_conv.filter(lambda row: row[5] == 'F' and row[21] == '0')\n",
        "data_filtered.count()"
      ]
    },
    {
      "cell_type": "markdown",
      "metadata": {
        "id": "HTRUMneXzy1p"
      },
      "source": [
        "#### .flatMap(...)"
      ]
    },
    {
      "cell_type": "markdown",
      "metadata": {
        "id": "9ImmIrBMzy1p"
      },
      "source": [
        "The `.flatMap(...)` method works similarly to `.map(...)` but returns a flattened results instead of a list."
      ]
    },
    {
      "cell_type": "code",
      "execution_count": null,
      "metadata": {
        "colab": {
          "base_uri": "https://localhost:8080/"
        },
        "id": "8G9v4Cn3zy1p",
        "outputId": "75fd100f-2db9-4ba0-a635-2b625b17e1a3"
      },
      "outputs": [
        {
          "output_type": "execute_result",
          "data": {
            "text/plain": [
              "['2014', 2015, '2014', 2015, '2014', 2015, '2014', 2015, '2014', 2015]"
            ]
          },
          "metadata": {},
          "execution_count": 29
        }
      ],
      "source": [
        "data_2014_flat = data_from_file_conv.flatMap(lambda row: (row[16], int(row[16]) + 1))\n",
        "data_2014_flat.take(10)"
      ]
    },
    {
      "cell_type": "markdown",
      "metadata": {
        "id": "C8uTQnbXzy1q"
      },
      "source": [
        "#### .distinct()"
      ]
    },
    {
      "cell_type": "markdown",
      "metadata": {
        "id": "MouZ2XZNzy1q"
      },
      "source": [
        "This method returns a list of distinct values in a specified column."
      ]
    },
    {
      "cell_type": "code",
      "execution_count": null,
      "metadata": {
        "colab": {
          "base_uri": "https://localhost:8080/"
        },
        "id": "Onlxymdczy1r",
        "outputId": "5d7d19bd-3c49-4751-f640-5b91a56da020"
      },
      "outputs": [
        {
          "output_type": "execute_result",
          "data": {
            "text/plain": [
              "['M', 'F', '-99']"
            ]
          },
          "metadata": {},
          "execution_count": 30
        }
      ],
      "source": [
        "distinct_gender = data_from_file_conv.map(lambda row: row[5]).distinct().collect()\n",
        "distinct_gender"
      ]
    },
    {
      "cell_type": "markdown",
      "metadata": {
        "id": "S4aOzkFczy1s"
      },
      "source": [
        "#### .sample(...)"
      ]
    },
    {
      "cell_type": "markdown",
      "metadata": {
        "id": "tVbFXPZQzy1s"
      },
      "source": [
        "The `.sample()` method returns a randomized sample from the dataset."
      ]
    },
    {
      "cell_type": "code",
      "execution_count": null,
      "metadata": {
        "colab": {
          "base_uri": "https://localhost:8080/"
        },
        "id": "nBGDer5Mzy1s",
        "outputId": "060d556f-0aea-49fc-8dc2-726ebb38b1c3"
      },
      "outputs": [
        {
          "output_type": "execute_result",
          "data": {
            "text/plain": [
              "[array(['1', '  ', '5', '1', '01', 'F', '1', '082', ' ', '42', '22', '10',\n",
              "        '  ', '4', 'W', '5', '2014', 'U', '7', 'C', 'N', ' ', ' ', 'I251',\n",
              "        '215', '063', '   ', '21', '02', '11I350 ', '21I251 ', '       ',\n",
              "        '       ', '       ', '       ', '       ', '       ', '       ',\n",
              "        '       ', '       ', '       ', '       ', '       ', '       ',\n",
              "        '       ', '       ', '       ', '       ', '       ', '02',\n",
              "        'I251 ', 'I350 ', '     ', '     ', '     ', '     ', '     ',\n",
              "        '     ', '     ', '     ', '     ', '     ', '     ', '     ',\n",
              "        '     ', '     ', '     ', '     ', '     ', '     ', '28', ' ',\n",
              "        ' ', '2', '4', '100', '8'], dtype='<U40')]"
            ]
          },
          "metadata": {},
          "execution_count": 31
        }
      ],
      "source": [
        "fraction = 0.1\n",
        "data_sample = data_from_file_conv.sample(False, fraction, 666)\n",
        "\n",
        "data_sample.take(1)"
      ]
    },
    {
      "cell_type": "markdown",
      "metadata": {
        "id": "XaEZ-eozzy1t"
      },
      "source": [
        "Let's confirm that we really got 10% of all the records."
      ]
    },
    {
      "cell_type": "code",
      "execution_count": null,
      "metadata": {
        "colab": {
          "base_uri": "https://localhost:8080/"
        },
        "id": "eI38TyCOzy2J",
        "outputId": "689090e3-d3a7-4ec5-cbb1-628e0790f515"
      },
      "outputs": [
        {
          "output_type": "stream",
          "name": "stdout",
          "text": [
            "Original dataset: 125744, sample: 12552\n"
          ]
        }
      ],
      "source": [
        "print('Original dataset: {0}, sample: {1}'.format(data_from_file_conv.count(), data_sample.count()))"
      ]
    },
    {
      "cell_type": "markdown",
      "metadata": {
        "id": "20mu93-Ozy2J"
      },
      "source": [
        "#### .leftOuterJoin(...)"
      ]
    },
    {
      "cell_type": "markdown",
      "metadata": {
        "id": "YfRL9_WSzy2K"
      },
      "source": [
        "Left outer join, just like the SQL world, joins two RDDs based on the values found in both datasets, and returns records from the left RDD with records from the right one appended where the two RDDs match."
      ]
    },
    {
      "cell_type": "code",
      "execution_count": 13,
      "metadata": {
        "colab": {
          "base_uri": "https://localhost:8080/"
        },
        "id": "q6BbBj1Dzy2K",
        "outputId": "161299da-a6bf-4336-b580-a98e6d72ea06"
      },
      "outputs": [
        {
          "output_type": "execute_result",
          "data": {
            "text/plain": [
              "[('b', (4, '6')), ('c', (10, None)), ('a', (1, 4)), ('a', (1, 1))]"
            ]
          },
          "metadata": {},
          "execution_count": 13
        }
      ],
      "source": [
        "rdd1 = sc.parallelize([('a', 1), ('b', 4), ('c',10)])\n",
        "rdd2 = sc.parallelize([('a', 4), ('a', 1), ('b', '6'), ('d', 15)])\n",
        "\n",
        "rdd3 = rdd1.leftOuterJoin(rdd2)\n",
        "rdd3.take(5)"
      ]
    },
    {
      "cell_type": "markdown",
      "metadata": {
        "id": "sg3lIHeuzy2L"
      },
      "source": [
        "If we used `.join(...)` method instead we would have gotten only the values for `'a'` and `'b'` as these two values intersect between these two RDDs."
      ]
    },
    {
      "cell_type": "code",
      "execution_count": 14,
      "metadata": {
        "colab": {
          "base_uri": "https://localhost:8080/"
        },
        "id": "bMDbFQjazy2L",
        "outputId": "e08b4c77-b4bb-4c5b-dc87-042d10cc0f83"
      },
      "outputs": [
        {
          "output_type": "execute_result",
          "data": {
            "text/plain": [
              "[('b', (4, '6')), ('a', (1, 4)), ('a', (1, 1))]"
            ]
          },
          "metadata": {},
          "execution_count": 14
        }
      ],
      "source": [
        "rdd4 = rdd1.join(rdd2)\n",
        "rdd4.collect()"
      ]
    },
    {
      "cell_type": "markdown",
      "metadata": {
        "id": "k9UIaeThzy2L"
      },
      "source": [
        "Another useful method is the `.intersection(...)` that returns the records that are *equal* in both RDDs."
      ]
    },
    {
      "cell_type": "code",
      "execution_count": null,
      "metadata": {
        "colab": {
          "base_uri": "https://localhost:8080/"
        },
        "id": "uo7KR5YKzy2M",
        "outputId": "7aa136e5-9186-4489-f6bb-e9e611432c27"
      },
      "outputs": [
        {
          "output_type": "execute_result",
          "data": {
            "text/plain": [
              "[('a', 1)]"
            ]
          },
          "metadata": {},
          "execution_count": 16
        }
      ],
      "source": [
        "rdd5 = rdd1.intersection(rdd2)\n",
        "rdd5.collect()"
      ]
    },
    {
      "cell_type": "markdown",
      "metadata": {
        "id": "7dVAQR9Gzy2M"
      },
      "source": [
        "#### .repartition(...)"
      ]
    },
    {
      "cell_type": "markdown",
      "metadata": {
        "id": "ckCD60kRzy2M"
      },
      "source": [
        "Repartitioning the dataset changes the number of partitions the dataset is divided into."
      ]
    },
    {
      "cell_type": "code",
      "execution_count": 16,
      "metadata": {
        "colab": {
          "base_uri": "https://localhost:8080/"
        },
        "id": "doUpAYfbzy2N",
        "outputId": "b77bd0af-b14f-409e-956d-b6bc0aae9621"
      },
      "outputs": [
        {
          "output_type": "execute_result",
          "data": {
            "text/plain": [
              "3"
            ]
          },
          "metadata": {},
          "execution_count": 16
        }
      ],
      "source": [
        "rdd1 = rdd1.repartition(3)\n",
        "\n",
        "len(rdd1.glom().collect())"
      ]
    },
    {
      "cell_type": "markdown",
      "metadata": {
        "id": "SjtqgK5uzy2N"
      },
      "source": [
        "### Actions"
      ]
    },
    {
      "cell_type": "markdown",
      "metadata": {
        "id": "uMUqTy1dzy2O"
      },
      "source": [
        "#### .take(...)"
      ]
    },
    {
      "cell_type": "markdown",
      "metadata": {
        "id": "MiTNG3FAzy2O"
      },
      "source": [
        "The method returns `n` top rows from a single data partition."
      ]
    },
    {
      "cell_type": "code",
      "execution_count": null,
      "metadata": {
        "id": "ZYD06-ctzy2P",
        "outputId": "3ebb47f5-1666-440c-a1a6-4b850b440bae"
      },
      "outputs": [
        {
          "data": {
            "text/plain": [
              "[array(['1', '  ', '2', '1', '01', 'M', '1', '087', ' ', '43', '23', '11',\n",
              "        '  ', '4', 'M', '4', '2014', 'U', '7', 'C', 'N', ' ', ' ', 'I64 ',\n",
              "        '238', '070', '   ', '24', '01', '11I64  ', '       ', '       ',\n",
              "        '       ', '       ', '       ', '       ', '       ', '       ',\n",
              "        '       ', '       ', '       ', '       ', '       ', '       ',\n",
              "        '       ', '       ', '       ', '       ', '       ', '01',\n",
              "        'I64  ', '     ', '     ', '     ', '     ', '     ', '     ',\n",
              "        '     ', '     ', '     ', '     ', '     ', '     ', '     ',\n",
              "        '     ', '     ', '     ', '     ', '     ', '     ', '01', ' ',\n",
              "        ' ', '1', '1', '100', '6'], \n",
              "       dtype='<U40')]"
            ]
          },
          "execution_count": 19,
          "metadata": {},
          "output_type": "execute_result"
        }
      ],
      "source": [
        "data_first = data_from_file_conv.take(1)\n",
        "data_first"
      ]
    },
    {
      "cell_type": "markdown",
      "metadata": {
        "id": "lG55-J4Bzy2P"
      },
      "source": [
        "If you want somewhat randomized records you can use `.takeSample(...)` instead."
      ]
    },
    {
      "cell_type": "code",
      "execution_count": null,
      "metadata": {
        "id": "cNYNP3ANzy2P",
        "outputId": "2a636151-7951-4c78-c5b4-3b0991e2c6b2"
      },
      "outputs": [
        {
          "data": {
            "text/plain": [
              "[array(['2', '17', ' ', '0', '08', 'M', '1', '069', ' ', '39', '19', '09',\n",
              "        '  ', '1', 'M', '7', '2014', 'U', '7', 'U', 'N', ' ', ' ', 'I251',\n",
              "        '215', '063', '   ', '21', '06', '11I500 ', '21I251 ', '61I499 ',\n",
              "        '62I10  ', '63N189 ', '64K761 ', '       ', '       ', '       ',\n",
              "        '       ', '       ', '       ', '       ', '       ', '       ',\n",
              "        '       ', '       ', '       ', '       ', '       ', '05',\n",
              "        'I251 ', 'I120 ', 'I499 ', 'I500 ', 'K761 ', '     ', '     ',\n",
              "        '     ', '     ', '     ', '     ', '     ', '     ', '     ',\n",
              "        '     ', '     ', '     ', '     ', '     ', '     ', '01', ' ',\n",
              "        ' ', '1', '1', '100', '6'], \n",
              "       dtype='<U40')]"
            ]
          },
          "execution_count": 20,
          "metadata": {},
          "output_type": "execute_result"
        }
      ],
      "source": [
        "data_take_sampled = data_from_file_conv.takeSample(False, 1, 667)\n",
        "data_take_sampled"
      ]
    },
    {
      "cell_type": "markdown",
      "metadata": {
        "id": "IPfxo9Qqzy2V"
      },
      "source": [
        "#### .reduce(...)"
      ]
    },
    {
      "cell_type": "markdown",
      "metadata": {
        "id": "pZlNlFv4zy2V"
      },
      "source": [
        "Another action that processes your data, the `.reduce(...)` method *reduces* the elements of an RDD using a specified method."
      ]
    },
    {
      "cell_type": "code",
      "execution_count": 17,
      "metadata": {
        "id": "-hISItOXzy2X",
        "outputId": "35c5d77c-57d7-4f90-fd73-c5f672758580",
        "colab": {
          "base_uri": "https://localhost:8080/"
        }
      },
      "outputs": [
        {
          "output_type": "execute_result",
          "data": {
            "text/plain": [
              "15"
            ]
          },
          "metadata": {},
          "execution_count": 17
        }
      ],
      "source": [
        "rdd1.map(lambda row: row[1]).reduce(lambda x, y: x + y)"
      ]
    },
    {
      "cell_type": "markdown",
      "metadata": {
        "id": "CsSSzyPSzy2Y"
      },
      "source": [
        "If the reducing function is not associative and commutative you will sometimes get wrong results depending how your data is partitioned."
      ]
    },
    {
      "cell_type": "code",
      "execution_count": 18,
      "metadata": {
        "id": "vkjkkqqnzy2Z"
      },
      "outputs": [],
      "source": [
        "data_reduce = sc.parallelize([1, 2, .5, .1, 5, .2], 1)"
      ]
    },
    {
      "cell_type": "markdown",
      "metadata": {
        "id": "R36qhwQ_zy2a"
      },
      "source": [
        "I we were to reduce the data in a manner that we would like to *divide* the current result by the subsequent one, we would expect a value of 10"
      ]
    },
    {
      "cell_type": "code",
      "execution_count": 19,
      "metadata": {
        "id": "4LcUndGnzy2b",
        "outputId": "1c44569a-34a1-442d-e85c-56bc64d0a172",
        "colab": {
          "base_uri": "https://localhost:8080/"
        }
      },
      "outputs": [
        {
          "output_type": "execute_result",
          "data": {
            "text/plain": [
              "10.0"
            ]
          },
          "metadata": {},
          "execution_count": 19
        }
      ],
      "source": [
        "works = data_reduce.reduce(lambda x, y: x / y)\n",
        "works"
      ]
    },
    {
      "cell_type": "markdown",
      "metadata": {
        "id": "N0CmZC9hzy2b"
      },
      "source": [
        "However, if you were to partition the data into 3 partitions, the result will be wrong."
      ]
    },
    {
      "cell_type": "code",
      "execution_count": 20,
      "metadata": {
        "id": "AVDD3FM2zy2c",
        "outputId": "8c36ab27-a7d9-43aa-b8f8-fe00578ba1b2",
        "colab": {
          "base_uri": "https://localhost:8080/"
        }
      },
      "outputs": [
        {
          "output_type": "execute_result",
          "data": {
            "text/plain": [
              "0.004"
            ]
          },
          "metadata": {},
          "execution_count": 20
        }
      ],
      "source": [
        "data_reduce = sc.parallelize([1, 2, .5, .1, 5, .2], 3)\n",
        "data_reduce.reduce(lambda x, y: x / y)"
      ]
    },
    {
      "cell_type": "markdown",
      "metadata": {
        "id": "cD0LgM4izy2c"
      },
      "source": [
        "The `.reduceByKey(...)` method works in a similar way to the `.reduce(...)` method but performs a reduction on a key-by-key basis."
      ]
    },
    {
      "cell_type": "code",
      "execution_count": 21,
      "metadata": {
        "id": "8ANWBXa6zy2c",
        "outputId": "399d241e-9917-400b-868e-7eb1d0d3eca3",
        "colab": {
          "base_uri": "https://localhost:8080/"
        }
      },
      "outputs": [
        {
          "output_type": "execute_result",
          "data": {
            "text/plain": [
              "[('b', 4), ('c', 2), ('a', 12), ('d', 5)]"
            ]
          },
          "metadata": {},
          "execution_count": 21
        }
      ],
      "source": [
        "data_key = sc.parallelize([('a', 4),('b', 3),('c', 2),('a', 8),('d', 2),('b', 1),('d', 3)],4)\n",
        "data_key.reduceByKey(lambda x, y: x + y).collect()"
      ]
    },
    {
      "cell_type": "markdown",
      "metadata": {
        "id": "S76xDI-Tzy2d"
      },
      "source": [
        "#### .count()"
      ]
    },
    {
      "cell_type": "markdown",
      "metadata": {
        "id": "jV6eQyT5zy2d"
      },
      "source": [
        "The `.count()` method counts the number of elements in the RDD."
      ]
    },
    {
      "cell_type": "code",
      "execution_count": null,
      "metadata": {
        "id": "s0t4QsxXzy2e",
        "outputId": "827c476d-aee6-44a8-c87d-5d131076b8e0"
      },
      "outputs": [
        {
          "data": {
            "text/plain": [
              "6"
            ]
          },
          "execution_count": 26,
          "metadata": {},
          "output_type": "execute_result"
        }
      ],
      "source": [
        "data_reduce.count()"
      ]
    },
    {
      "cell_type": "markdown",
      "metadata": {
        "id": "3uc8T3Uszy2n"
      },
      "source": [
        "It has the same effect as the method below but does not require shifting the data to the driver."
      ]
    },
    {
      "cell_type": "code",
      "execution_count": null,
      "metadata": {
        "id": "Z93K1mRjzy2o",
        "outputId": "abfe4217-7103-4dd2-c045-2612c8f223de"
      },
      "outputs": [
        {
          "data": {
            "text/plain": [
              "6"
            ]
          },
          "execution_count": 27,
          "metadata": {},
          "output_type": "execute_result"
        }
      ],
      "source": [
        "len(data_reduce.collect()) # WRONG -- DON'T DO THIS!"
      ]
    },
    {
      "cell_type": "markdown",
      "metadata": {
        "id": "0GIqoh9Dzy2p"
      },
      "source": [
        "If your dataset is in a form of a *key-value* you can use the `.countByKey()` method to get the counts of distinct keys."
      ]
    },
    {
      "cell_type": "code",
      "execution_count": null,
      "metadata": {
        "id": "uCTUeeoYzy2p",
        "outputId": "8e9a345b-22f7-42a9-8090-64644b2dbfd4"
      },
      "outputs": [
        {
          "data": {
            "text/plain": [
              "dict_items([('a', 2), ('b', 2), ('d', 2), ('c', 1)])"
            ]
          },
          "execution_count": 28,
          "metadata": {},
          "output_type": "execute_result"
        }
      ],
      "source": [
        "data_key.countByKey().items()"
      ]
    },
    {
      "cell_type": "markdown",
      "metadata": {
        "id": "-6XJX-kRzy2p"
      },
      "source": [
        "#### .saveAsTextFile(...)"
      ]
    },
    {
      "cell_type": "markdown",
      "metadata": {
        "id": "CN1xvXeuzy2q"
      },
      "source": [
        "As the name suggests, the `.saveAsTextFile()` the RDD and saves it to text files: each partition to a separate file."
      ]
    },
    {
      "cell_type": "code",
      "execution_count": null,
      "metadata": {
        "id": "tA4GMg_dzy2q"
      },
      "outputs": [],
      "source": [
        "data_key.saveAsTextFile('/Users/drabast/Documents/PySpark_Data/data_key.txt')"
      ]
    },
    {
      "cell_type": "markdown",
      "metadata": {
        "id": "3oRnmqo5zy2s"
      },
      "source": [
        "To read it back, you need to parse it back as, as before, all the rows are treated as strings."
      ]
    },
    {
      "cell_type": "code",
      "execution_count": null,
      "metadata": {
        "id": "NVYzOeZNzy2t",
        "outputId": "9aff413c-0841-4bb7-b2ec-9a62b98d62bd"
      },
      "outputs": [
        {
          "data": {
            "text/plain": [
              "[('a', 4), ('b', 3), ('c', 2), ('a', 8), ('d', 2), ('b', 1), ('d', 3)]"
            ]
          },
          "execution_count": 31,
          "metadata": {},
          "output_type": "execute_result"
        }
      ],
      "source": [
        "def parseInput(row):\n",
        "    import re\n",
        "\n",
        "    pattern = re.compile(r'\\(\\'([a-z])\\', ([0-9])\\)')\n",
        "    row_split = pattern.split(row)\n",
        "\n",
        "    return (row_split[1], int(row_split[2]))\n",
        "\n",
        "data_key_reread = sc \\\n",
        "    .textFile('/Users/drabast/Documents/PySpark_Data/data_key.txt') \\\n",
        "    .map(parseInput)\n",
        "data_key_reread.collect()"
      ]
    },
    {
      "cell_type": "markdown",
      "metadata": {
        "id": "LT39GlUszy2t"
      },
      "source": [
        "**.foreach(...)**"
      ]
    },
    {
      "cell_type": "markdown",
      "metadata": {
        "id": "nUY68vsJzy2t"
      },
      "source": [
        "A method that applies the same function to each element of the RDD in an iterative way."
      ]
    },
    {
      "cell_type": "code",
      "execution_count": null,
      "metadata": {
        "id": "48Dw6KcVzy2u"
      },
      "outputs": [],
      "source": [
        "def f(x):\n",
        "    print(x)\n",
        "\n",
        "data_key.foreach(f)"
      ]
    }
  ],
  "metadata": {
    "kernelspec": {
      "display_name": "Python 3",
      "language": "python",
      "name": "python3"
    },
    "language_info": {
      "codemirror_mode": {
        "name": "ipython",
        "version": 3
      },
      "file_extension": ".py",
      "mimetype": "text/x-python",
      "name": "python",
      "nbconvert_exporter": "python",
      "pygments_lexer": "ipython3",
      "version": "3.5.2"
    },
    "colab": {
      "provenance": [],
      "include_colab_link": true
    }
  },
  "nbformat": 4,
  "nbformat_minor": 0
}